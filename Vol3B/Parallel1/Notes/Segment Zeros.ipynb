{
 "cells": [
  {
   "cell_type": "code",
   "execution_count": 1,
   "metadata": {
    "ExecuteTime": {
     "end_time": "2016-11-05T12:19:43.870855",
     "start_time": "2016-11-05T12:19:43.860241"
    },
    "collapsed": false
   },
   "outputs": [],
   "source": [
    "import cy_adj_zeros as cy_adj"
   ]
  },
  {
   "cell_type": "code",
   "execution_count": 2,
   "metadata": {
    "ExecuteTime": {
     "end_time": "2016-11-05T12:19:44.351661",
     "start_time": "2016-11-05T12:19:44.334742"
    },
    "collapsed": false
   },
   "outputs": [],
   "source": [
    "def adjacent_zeros(mylist):\n",
    "    adjacent = []\n",
    "    i = 0\n",
    "    while i < len(mylist):\n",
    "        if mylist[i] != 0:\n",
    "            i += 1\n",
    "        else:\n",
    "            while mylist[i] == 0:\n",
    "                adjacent.append(i)\n",
    "                i += 1\n",
    "                if i == len(mylist):\n",
    "                    return adjacent\n",
    "    return adjacent"
   ]
  },
  {
   "cell_type": "code",
   "execution_count": 3,
   "metadata": {
    "ExecuteTime": {
     "end_time": "2016-11-05T12:19:44.885816",
     "start_time": "2016-11-05T12:19:44.764965"
    },
    "collapsed": false
   },
   "outputs": [],
   "source": [
    "import numpy as np\n",
    "mylist = np.random.randint(0,2,10**5).astype(float)"
   ]
  },
  {
   "cell_type": "code",
   "execution_count": 4,
   "metadata": {
    "ExecuteTime": {
     "end_time": "2016-11-05T12:19:45.326027",
     "start_time": "2016-11-05T12:19:45.217831"
    },
    "collapsed": false
   },
   "outputs": [
    {
     "name": "stdout",
     "output_type": "stream",
     "text": [
      "CPU times: user 96 ms, sys: 16 ms, total: 112 ms\n",
      "Wall time: 94.5 ms\n"
     ]
    }
   ],
   "source": [
    "%time z = adjacent_zeros(mylist)"
   ]
  },
  {
   "cell_type": "code",
   "execution_count": 7,
   "metadata": {
    "ExecuteTime": {
     "end_time": "2016-11-05T12:22:53.325391",
     "start_time": "2016-11-05T12:22:53.317581"
    },
    "collapsed": false
   },
   "outputs": [
    {
     "name": "stdout",
     "output_type": "stream",
     "text": [
      "CPU times: user 0 ns, sys: 0 ns, total: 0 ns\n",
      "Wall time: 1.47 ms\n"
     ]
    }
   ],
   "source": [
    "%time cy_z = cy_adj.adjacent_zeros(mylist)"
   ]
  },
  {
   "cell_type": "code",
   "execution_count": 8,
   "metadata": {
    "ExecuteTime": {
     "end_time": "2016-11-05T12:23:05.055663",
     "start_time": "2016-11-05T12:23:05.035160"
    },
    "collapsed": false
   },
   "outputs": [
    {
     "data": {
      "text/plain": [
       "True"
      ]
     },
     "execution_count": 8,
     "metadata": {},
     "output_type": "execute_result"
    }
   ],
   "source": []
  },
  {
   "cell_type": "code",
   "execution_count": null,
   "metadata": {
    "collapsed": true
   },
   "outputs": [],
   "source": []
  }
 ],
 "metadata": {
  "kernelspec": {
   "display_name": "Python [Root]",
   "language": "python",
   "name": "Python [Root]"
  },
  "language_info": {
   "codemirror_mode": {
    "name": "ipython",
    "version": 2
   },
   "file_extension": ".py",
   "mimetype": "text/x-python",
   "name": "python",
   "nbconvert_exporter": "python",
   "pygments_lexer": "ipython2",
   "version": "2.7.12"
  },
  "latex_envs": {
   "bibliofile": "biblio.bib",
   "cite_by": "apalike",
   "current_citInitial": 1,
   "eqLabelWithNumbers": true,
   "eqNumInitial": 0
  }
 },
 "nbformat": 4,
 "nbformat_minor": 0
}

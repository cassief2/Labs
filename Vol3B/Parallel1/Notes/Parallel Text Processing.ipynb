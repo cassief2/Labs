{
 "cells": [
  {
   "cell_type": "markdown",
   "metadata": {},
   "source": [
    "### pseudocode for text processing problem\n",
    "1. Create a list of all sentences.\n",
    "- Scatter sentences among all the engines\n",
    "- Call whatever text processing stuff is needed on each engine (co-occurrence dictionary)\n",
    "- Call gather to get all the resulting dictionaries."
   ]
  },
  {
   "cell_type": "code",
   "execution_count": 11,
   "metadata": {
    "ExecuteTime": {
     "end_time": "2016-10-25T22:49:36.410112",
     "start_time": "2016-10-25T22:49:36.380403"
    },
    "collapsed": false
   },
   "outputs": [],
   "source": [
    "import numpy as np\n",
    "from ipyparallel import Client\n",
    "client = Client()\n",
    "dview = client[:]"
   ]
  },
  {
   "cell_type": "code",
   "execution_count": 2,
   "metadata": {
    "ExecuteTime": {
     "end_time": "2016-10-25T22:44:48.852228",
     "start_time": "2016-10-25T22:44:47.985688"
    },
    "collapsed": false
   },
   "outputs": [],
   "source": [
    "from nltk.corpus import state_union\n",
    "from os import walk\n",
    "\n",
    "raw_speeches = []\n",
    "for (dirpath, dirname, filename) in walk(\"/home/tanner/nltk_data/corpora/state_union/\"):\n",
    "    for f in filename:\n",
    "        raw_speeches.append(state_union.raw(f).lower())"
   ]
  },
  {
   "cell_type": "code",
   "execution_count": 3,
   "metadata": {
    "ExecuteTime": {
     "end_time": "2016-10-25T22:44:49.077184",
     "start_time": "2016-10-25T22:44:48.854376"
    },
    "collapsed": false
   },
   "outputs": [],
   "source": [
    "%%px\n",
    "from nltk.corpus import stopwords\n",
    "from nltk import word_tokenize\n",
    "from nltk.tokenize import RegexpTokenizer\n",
    "tokenizer = RegexpTokenizer(r'\\w+')\n",
    "\n",
    "stop_words = set(stopwords.words('english'))\n",
    "def co_dict_sent(sentence,n,d):\n",
    "    #words = sentence.strip().split(' ')\n",
    "    #words = word_tokenize(sentence.lower())\n",
    "    words = tokenizer.tokenize(sentence.lower())\n",
    "    filtered = [w for w in words if w not in stop_words]\n",
    "    for i in xrange(len(filtered)):\n",
    "        for j in xrange(-n,n+1):\n",
    "            if j != 0 and i+j >=0 and i+j <= len(filtered):\n",
    "                try:\n",
    "                    if filtered[i] not in d.keys():\n",
    "                        d[filtered[i]] = [filtered[i+j]]\n",
    "                    else:\n",
    "                        d[filtered[i]].append(filtered[i+j])\n",
    "                except Exception:\n",
    "                    pass"
   ]
  },
  {
   "cell_type": "code",
   "execution_count": 4,
   "metadata": {
    "ExecuteTime": {
     "end_time": "2016-10-25T22:47:48.004605",
     "start_time": "2016-10-25T22:44:49.078409"
    },
    "collapsed": false
   },
   "outputs": [],
   "source": [
    "%%px\n",
    "d = dict()\n",
    "for i, speech in enumerate(speeches):\n",
    "    co_dict_sent(speech,5,d)"
   ]
  },
  {
   "cell_type": "code",
   "execution_count": 5,
   "metadata": {
    "ExecuteTime": {
     "end_time": "2016-10-25T22:47:49.351446",
     "start_time": "2016-10-25T22:47:48.005623"
    },
    "collapsed": false
   },
   "outputs": [],
   "source": [
    "dictionaries = dview.gather(\"d\").get()"
   ]
  },
  {
   "cell_type": "code",
   "execution_count": 6,
   "metadata": {
    "ExecuteTime": {
     "end_time": "2016-10-25T22:47:49.503126",
     "start_time": "2016-10-25T22:47:49.352863"
    },
    "collapsed": true
   },
   "outputs": [],
   "source": [
    "combined_dict = dict()\n",
    "for d in dictionaries:\n",
    "    for key in d.keys():\n",
    "        combined_dict[key] = []"
   ]
  },
  {
   "cell_type": "code",
   "execution_count": 7,
   "metadata": {
    "ExecuteTime": {
     "end_time": "2016-10-25T22:47:49.610007",
     "start_time": "2016-10-25T22:47:49.506244"
    },
    "collapsed": false
   },
   "outputs": [],
   "source": [
    "for d in dictionaries:\n",
    "    for key in d.keys():\n",
    "        combined_dict[key] += d[key]"
   ]
  },
  {
   "cell_type": "code",
   "execution_count": 8,
   "metadata": {
    "ExecuteTime": {
     "end_time": "2016-10-25T22:47:49.618593",
     "start_time": "2016-10-25T22:47:49.611958"
    },
    "collapsed": false
   },
   "outputs": [],
   "source": [
    "import scipy.sparse as spar"
   ]
  },
  {
   "cell_type": "code",
   "execution_count": 9,
   "metadata": {
    "ExecuteTime": {
     "end_time": "2016-10-25T22:47:49.646227",
     "start_time": "2016-10-25T22:47:49.623099"
    },
    "collapsed": true
   },
   "outputs": [],
   "source": [
    "index = {word:i for i,word in enumerate(combined_dict.keys())}"
   ]
  },
  {
   "cell_type": "code",
   "execution_count": 12,
   "metadata": {
    "ExecuteTime": {
     "end_time": "2016-10-25T22:49:40.675181",
     "start_time": "2016-10-25T22:49:39.884830"
    },
    "collapsed": false
   },
   "outputs": [],
   "source": [
    "rows = []\n",
    "cols = []\n",
    "for key, value in combined_dict.iteritems():\n",
    "    for w in value:\n",
    "        rows.append(index[key])\n",
    "        cols.append(index[w])\n",
    "data = np.ones(len(rows))"
   ]
  },
  {
   "cell_type": "code",
   "execution_count": 13,
   "metadata": {
    "ExecuteTime": {
     "end_time": "2016-10-25T22:49:42.784187",
     "start_time": "2016-10-25T22:49:42.472474"
    },
    "collapsed": false
   },
   "outputs": [],
   "source": [
    "cooccurence = spar.coo_matrix((data, (rows, cols)), shape=(len(combined_dict), len(combined_dict))).tocsr()"
   ]
  },
  {
   "cell_type": "code",
   "execution_count": 24,
   "metadata": {
    "ExecuteTime": {
     "end_time": "2016-10-25T22:52:19.376592",
     "start_time": "2016-10-25T22:52:19.267144"
    },
    "collapsed": false
   },
   "outputs": [],
   "source": [
    "dense = cooccurence.astype(np.int32).toarray()"
   ]
  },
  {
   "cell_type": "code",
   "execution_count": 27,
   "metadata": {
    "ExecuteTime": {
     "end_time": "2016-10-25T22:53:53.422447",
     "start_time": "2016-10-25T22:53:20.028149"
    },
    "collapsed": false
   },
   "outputs": [],
   "source": [
    "import matplotlib.pyplot as plt\n",
    "plt.spy(dense, markersize=1)\n",
    "plt.show()"
   ]
  },
  {
   "cell_type": "code",
   "execution_count": null,
   "metadata": {
    "collapsed": true
   },
   "outputs": [],
   "source": []
  }
 ],
 "metadata": {
  "kernelspec": {
   "display_name": "Python [Root]",
   "language": "python",
   "name": "Python [Root]"
  },
  "language_info": {
   "codemirror_mode": {
    "name": "ipython",
    "version": 2
   },
   "file_extension": ".py",
   "mimetype": "text/x-python",
   "name": "python",
   "nbconvert_exporter": "python",
   "pygments_lexer": "ipython2",
   "version": "2.7.12"
  },
  "latex_envs": {
   "bibliofile": "biblio.bib",
   "cite_by": "apalike",
   "current_citInitial": 1,
   "eqLabelWithNumbers": true,
   "eqNumInitial": 0
  }
 },
 "nbformat": 4,
 "nbformat_minor": 0
}

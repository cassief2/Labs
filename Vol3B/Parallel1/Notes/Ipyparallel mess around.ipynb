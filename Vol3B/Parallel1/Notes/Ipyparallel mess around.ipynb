{
 "cells": [
  {
   "cell_type": "code",
   "execution_count": 1,
   "metadata": {
    "ExecuteTime": {
     "end_time": "2016-10-20T19:55:33.422065",
     "start_time": "2016-10-20T19:55:33.343578"
    },
    "collapsed": false
   },
   "outputs": [],
   "source": [
    "from ipyparallel import Client\n",
    "rc = Client()\n",
    "dview = rc[:]\n",
    "dview.block=True"
   ]
  },
  {
   "cell_type": "code",
   "execution_count": 2,
   "metadata": {
    "ExecuteTime": {
     "end_time": "2016-10-20T19:55:33.867588",
     "start_time": "2016-10-20T19:55:33.824360"
    },
    "collapsed": false
   },
   "outputs": [
    {
     "data": {
      "text/plain": [
       "<AsyncResult: execute:finished>"
      ]
     },
     "execution_count": 2,
     "metadata": {},
     "output_type": "execute_result"
    }
   ],
   "source": [
    "dview.execute(\"import numpy as np\")"
   ]
  },
  {
   "cell_type": "code",
   "execution_count": 3,
   "metadata": {
    "ExecuteTime": {
     "end_time": "2016-10-20T19:55:34.450511",
     "start_time": "2016-10-20T19:55:34.329609"
    },
    "collapsed": false
   },
   "outputs": [],
   "source": [
    "import numpy as np\n",
    "\n",
    "nums = np.random.uniform(low=-1, high=1, size=10000)\n",
    "dview.scatter('nums', nums)"
   ]
  },
  {
   "cell_type": "code",
   "execution_count": 4,
   "metadata": {
    "ExecuteTime": {
     "end_time": "2016-10-20T19:55:34.873197",
     "start_time": "2016-10-20T19:55:34.802415"
    },
    "collapsed": false
   },
   "outputs": [
    {
     "data": {
      "text/plain": [
       "<AsyncResult: execute:finished>"
      ]
     },
     "execution_count": 4,
     "metadata": {},
     "output_type": "execute_result"
    }
   ],
   "source": [
    "dview.execute(\n",
    "\"\"\"\n",
    "M = np.max(nums)\n",
    "m = np.min(nums)\n",
    "\"\"\"\n",
    ")"
   ]
  },
  {
   "cell_type": "code",
   "execution_count": 5,
   "metadata": {
    "ExecuteTime": {
     "end_time": "2016-10-20T19:55:35.936997",
     "start_time": "2016-10-20T19:55:35.892834"
    },
    "collapsed": false
   },
   "outputs": [],
   "source": [
    "maxs = dview.gather('M')\n",
    "mins = dview.gather('m')"
   ]
  },
  {
   "cell_type": "code",
   "execution_count": 6,
   "metadata": {
    "ExecuteTime": {
     "end_time": "2016-10-20T19:55:40.169144",
     "start_time": "2016-10-20T19:55:40.164284"
    },
    "collapsed": false
   },
   "outputs": [
    {
     "name": "stdout",
     "output_type": "stream",
     "text": [
      "0.999573597555 -0.999987005607\n"
     ]
    }
   ],
   "source": [
    "print max(maxs), min(mins)"
   ]
  },
  {
   "cell_type": "markdown",
   "metadata": {
    "ExecuteTime": {
     "end_time": "2016-10-20T18:54:38.788153",
     "start_time": "2016-10-20T18:54:38.776971"
    }
   },
   "source": [
    "### Installation and Configuration\n",
    "- install using conda (make sure to include what version number we are using)\n",
    "- enabling notebook cluster, talk a bit about profiles\n",
    "\n",
    "\n",
    "\n",
    "### Highlights\n",
    "\n",
    "**Creating a DirectView object**\n",
    "\n",
    "**`push` and `pull` **\n",
    "- Think about each engine as an entirely separate computer. Each computer isn't going to magically know what is on your home computer, you have to send it there.\n",
    "\n",
    "**`apply` and `apply_sync` **\n",
    "- The gist behind blocking\n",
    "\n",
    "**`scatter` and `gather` **\n",
    "\n",
    "### Going the Extra Mile\n",
    "- Write a tutorial on how to connect different computers.\n",
    "- Learn how to use the SSH profiles (if it's easy, include it),\n",
    "\n"
   ]
  }
 ],
 "metadata": {
  "kernelspec": {
   "display_name": "Python [Root]",
   "language": "python",
   "name": "Python [Root]"
  },
  "language_info": {
   "codemirror_mode": {
    "name": "ipython",
    "version": 2
   },
   "file_extension": ".py",
   "mimetype": "text/x-python",
   "name": "python",
   "nbconvert_exporter": "python",
   "pygments_lexer": "ipython2",
   "version": "2.7.12"
  },
  "latex_envs": {
   "bibliofile": "biblio.bib",
   "cite_by": "apalike",
   "current_citInitial": 1,
   "eqLabelWithNumbers": true,
   "eqNumInitial": 0
  }
 },
 "nbformat": 4,
 "nbformat_minor": 0
}

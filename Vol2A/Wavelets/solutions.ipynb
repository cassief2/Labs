{
 "cells": [
  {
   "cell_type": "code",
   "execution_count": null,
   "metadata": {
    "collapsed": false
   },
   "outputs": [],
   "source": [
    "from scipy.signal import fftconvolve\n",
    "import matplotlib.pyplot as plt\n",
    "import numpy as np\n",
    "import pywt\n",
    "from scipy.misc import imread\n",
    "%matplotlib inline"
   ]
  },
  {
   "cell_type": "code",
   "execution_count": null,
   "metadata": {
    "collapsed": true
   },
   "outputs": [],
   "source": [
    "# Problem 1\n",
    "def dwt(X, L, H, n):\n",
    "    A = X\n",
    "    D = []\n",
    "    for i in xrange(n):\n",
    "        D.append(fftconvolve(A, H)[1::2])\n",
    "        A = fftconvolve(A, L)[1::2]\n",
    "    D.append(A)\n",
    "    return D[::-1]\n",
    "\n",
    "def plot(X, L, H, n):\n",
    "    coeffs = dwt(X, L, H, n)\n",
    "    plt.subplot(n+2, 1, 1)\n",
    "    plt.plot(X)\n",
    "    for i in xrange(len(coeffs)):\n",
    "        plt.subplot(n+2, 1, i+2)\n",
    "        plt.plot(coeffs[i])\n",
    "    plt.show()\n",
    "\n",
    "# Test for Problem 1\n",
    "domain = np.linspace(0, 4*np.pi, 1024)\n",
    "noise =  np.random.randn(1024)*.1\n",
    "noisysin = np.sin(domain) + noise\n",
    "L = np.ones(2)/np.sqrt(2)\n",
    "H = np.array([-1,1])/np.sqrt(2)\n",
    "plot(noisysin, L, H, 4)"
   ]
  },
  {
   "cell_type": "code",
   "execution_count": null,
   "metadata": {
    "collapsed": false
   },
   "outputs": [],
   "source": [
    "# Problem 2\n",
    "def idwt(X, L, H):\n",
    "    A = X[0]\n",
    "    D = X[1]\n",
    "    for i in xrange(1, len(X)):\n",
    "        up_A = np.zeros(2*A.size)\n",
    "        up_A[::2] = A\n",
    "        up_D = np.zeros(2*X[i].size)\n",
    "        up_D[::2] = X[i]\n",
    "        A = fftconvolve(up_A, L)[:-1] + fftconvolve(up_D, H)[:-1]\n",
    "    return A\n",
    "\n",
    "# Test for Problem 2\n",
    "L = np.ones(2)/np.sqrt(2)\n",
    "H = np.array([-1,1])/np.sqrt(2)\n",
    "n = 4\n",
    "\n",
    "domain = np.linspace(0,4*np.pi, 1024)\n",
    "noise = np.random.randn(1024)*.1\n",
    "X = np.sin(domain) + noise\n",
    "coeffs = dwt(X, L, H, n)\n",
    "\n",
    "Ln = [1/np.sqrt(2),1/np.sqrt(2)]\n",
    "Hn = [1/np.sqrt(2),-1/np.sqrt(2)]\n",
    "A = idwt(coeffs, Ln, Hn)\n",
    "np.allclose(X, A)"
   ]
  },
  {
   "cell_type": "code",
   "execution_count": null,
   "metadata": {
    "collapsed": false
   },
   "outputs": [],
   "source": [
    "# Problem 3\n",
    "swan = imread('swanlake_polluted.jpg', True)\n",
    "lw = pywt.dwt2(swan, 'db4', mode='per')\n",
    "plt.subplot(221)\n",
    "plt.imshow(np.abs(lw[0]), cmap='gray', interpolation='none')\n",
    "plt.subplot(222)\n",
    "plt.imshow(np.abs(lw[1][0]), cmap='gray', interpolation='none')\n",
    "plt.subplot(223)\n",
    "plt.imshow(np.abs(lw[1][1]), cmap='gray', interpolation='none')\n",
    "plt.subplot(224)\n",
    "plt.imshow(np.abs(lw[1][2]), cmap='gray', interpolation='none')\n",
    "plt.show()"
   ]
  },
  {
   "cell_type": "code",
   "execution_count": null,
   "metadata": {
    "collapsed": false
   },
   "outputs": [],
   "source": [
    "# Problem 4\n",
    "def clean_image(filename):\n",
    "    image = imread(filename, True)\n",
    "    wavelet = pywt.Wavelet('haar')\n",
    "    wave_coeffs = pywt.wavedec2(image, wavelet)\n",
    "    new_image = pywt.waverec2(wave_coeffs[:-1], wavelet)\n",
    "    return new_image\n",
    "\n",
    "img = imread('swanlake_polluted.jpg', True)\n",
    "clean_img = clean_image(\"swanlake_polluted.jpg\")\n",
    "plt.subplot(121)\n",
    "plt.imshow(img1, cmap='gray')\n",
    "plt.subplot(122)\n",
    "plt.imshow(img, cmap='gray')\n",
    "plt.show()"
   ]
  }
 ],
 "metadata": {
  "anaconda-cloud": {},
  "kernelspec": {
   "display_name": "Python [Root]",
   "language": "python",
   "name": "Python [Root]"
  },
  "language_info": {
   "codemirror_mode": {
    "name": "ipython",
    "version": 2
   },
   "file_extension": ".py",
   "mimetype": "text/x-python",
   "name": "python",
   "nbconvert_exporter": "python",
   "pygments_lexer": "ipython2",
   "version": "2.7.12"
  }
 },
 "nbformat": 4,
 "nbformat_minor": 0
}
